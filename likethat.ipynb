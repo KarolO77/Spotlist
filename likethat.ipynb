{
 "cells": [
  {
   "cell_type": "code",
   "execution_count": 1,
   "metadata": {},
   "outputs": [],
   "source": [
    "from credentials import *\n",
    "from requests_oauthlib import OAuth2Session\n",
    "import requests\n",
    "import json\n",
    "import base64"
   ]
  },
  {
   "cell_type": "code",
   "execution_count": 2,
   "metadata": {},
   "outputs": [],
   "source": [
    "def get_token(client_id,client_secret):\n",
    "    auth_string = f\"{client_id}:{client_secret}\"\n",
    "    auth_bytes = auth_string.encode(\"utf-8\")\n",
    "    auth_base64 = str(base64.b64encode(auth_bytes), \"utf-8\")\n",
    "\n",
    "    auth_url = auth_url = 'https://accounts.spotify.com/api/token'\n",
    "    headers = {\n",
    "        \"Authorization\" : f\"Basic {auth_base64}\",\n",
    "        \"Content-Type\" : \"application/x-www-form-urlencoded\"\n",
    "    }\n",
    "    data = {\"grant_type\": \"client_credentials\"}\n",
    "    result = requests.post(url=auth_url, headers=headers, data=data)\n",
    "    \n",
    "    return result.json()[\"access_token\"]"
   ]
  },
  {
   "cell_type": "code",
   "execution_count": 4,
   "metadata": {},
   "outputs": [],
   "source": [
    "base_url = \"https://api.spotify.com/v1/me\"\n",
    "redirect_uri = \"https://github.com/KarolO77/Spotlist\"\n",
    "scope = [\n",
    "    \"user-read-email\",\n",
    "    \"playlist-read-collaborative\"\n",
    "]\n",
    "\n",
    "access_token = get_token(client_id,client_secret)\n",
    "auth_headers = {\n",
    "    'Authorization': f\"Bearer {access_token}\"\n",
    "}"
   ]
  },
  {
   "cell_type": "code",
   "execution_count": 57,
   "metadata": {},
   "outputs": [],
   "source": [
    "def create_playlist(user_id, access_token, playlist_name, public : bool):\n",
    "    url = f\"https://api.spotify.com/v1/users/{user_id}/playlists\"\n",
    "    headers = {\n",
    "        \"Authorization\": f\"Bearer {access_token}\",\n",
    "        \"Content-Type\": \"application/json\"\n",
    "    }\n",
    "    payload = {\n",
    "        \"name\": playlist_name,\n",
    "        \"description\": \"A playlist created via API\",\n",
    "        \"public\": public\n",
    "    }\n",
    "\n",
    "    response = requests.post(url, headers=headers, data=json.dumps(payload))\n",
    "    return response"
   ]
  },
  {
   "cell_type": "code",
   "execution_count": 58,
   "metadata": {},
   "outputs": [],
   "source": [
    "def get_users_profile(headers, base_url):\n",
    "    url = f\"{base_url}/me\"\n",
    "    response = requests.get(url, headers=headers)\n",
    "    return response"
   ]
  },
  {
   "cell_type": "code",
   "execution_count": 59,
   "metadata": {},
   "outputs": [],
   "source": [
    "def login(client_id, scope, redirect_uri):\n",
    "    auth_url = \"https://accounts.spotify.com/authorize\"\n",
    "    spotify = OAuth2Session(client_id, scope=scope, redirect_uri=redirect_uri)\n",
    "    authorization_url, state = spotify.authorization_url(auth_url)\n",
    "    return authorization_url"
   ]
  },
  {
   "cell_type": "code",
   "execution_count": 60,
   "metadata": {},
   "outputs": [
    {
     "name": "stdout",
     "output_type": "stream",
     "text": [
      "https://accounts.spotify.com/authorize?response_type=code&client_id=931a986af45d4f8f8efda36f298a8773&redirect_uri=https%3A%2F%2Fgithub.com%2FKarolO77%2FSpotlist&scope=user-read-email+playlist-read-collaborative&state=EfiQYHqBnI5WqWUnXp9841V4eovEoH\n"
     ]
    }
   ],
   "source": [
    "r = login(client_id, scope, redirect_uri)\n",
    "print(r)"
   ]
  },
  {
   "cell_type": "code",
   "execution_count": 51,
   "metadata": {},
   "outputs": [
    {
     "name": "stdout",
     "output_type": "stream",
     "text": [
      "{'error': {'status': 401, 'message': 'Valid user authentication required'}}\n"
     ]
    }
   ],
   "source": [
    "response = create_playlist(my_user_id, access_token, \"Andrzej\", False)\n",
    "print(response.json())"
   ]
  },
  {
   "cell_type": "code",
   "execution_count": 48,
   "metadata": {},
   "outputs": [
    {
     "name": "stdout",
     "output_type": "stream",
     "text": [
      "{'error': {'status': 401, 'message': 'Unauthorized.'}}\n"
     ]
    }
   ],
   "source": [
    "user = get_users_profile(auth_headers, base_url)\n",
    "print(user.json())"
   ]
  }
 ],
 "metadata": {
  "kernelspec": {
   "display_name": "Python 3",
   "language": "python",
   "name": "python3"
  },
  "language_info": {
   "codemirror_mode": {
    "name": "ipython",
    "version": 3
   },
   "file_extension": ".py",
   "mimetype": "text/x-python",
   "name": "python",
   "nbconvert_exporter": "python",
   "pygments_lexer": "ipython3",
   "version": "3.10.6"
  }
 },
 "nbformat": 4,
 "nbformat_minor": 2
}
